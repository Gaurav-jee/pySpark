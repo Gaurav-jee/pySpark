{
 "cells": [
  {
   "cell_type": "code",
   "execution_count": 1,
   "id": "f173b332",
   "metadata": {},
   "outputs": [
    {
     "name": "stdout",
     "output_type": "stream",
     "text": [
      "Defaulting to user installation because normal site-packages is not writeable\n",
      "Requirement already satisfied: pyspark==3.1.3 in c:\\users\\localadmin\\appdata\\roaming\\python\\python38\\site-packages (3.1.3)\n",
      "Requirement already satisfied: py4j==0.10.9 in c:\\users\\localadmin\\appdata\\roaming\\python\\python38\\site-packages (from pyspark==3.1.3) (0.10.9)\n"
     ]
    }
   ],
   "source": [
    "#!pip install pyspark\n",
    "!pip install pyspark==3.1.3"
   ]
  },
  {
   "cell_type": "code",
   "execution_count": 2,
   "id": "dddcdb64",
   "metadata": {},
   "outputs": [],
   "source": [
    "import pyspark\n",
    "from pyspark.sql import SparkSession"
   ]
  },
  {
   "cell_type": "code",
   "execution_count": 3,
   "id": "4d7c0fa6",
   "metadata": {},
   "outputs": [],
   "source": [
    "spark = SparkSession.builder.master(\"local\").appName(\"demo1\").getOrCreate()"
   ]
  },
  {
   "cell_type": "code",
   "execution_count": 4,
   "id": "1f2486d9",
   "metadata": {},
   "outputs": [
    {
     "data": {
      "text/html": [
       "\n",
       "            <div>\n",
       "                <p><b>SparkSession - in-memory</b></p>\n",
       "                \n",
       "        <div>\n",
       "            <p><b>SparkContext</b></p>\n",
       "\n",
       "            <p><a href=\"http://K-H-8000566-L.Kfintech.com:4040\">Spark UI</a></p>\n",
       "\n",
       "            <dl>\n",
       "              <dt>Version</dt>\n",
       "                <dd><code>v3.1.3</code></dd>\n",
       "              <dt>Master</dt>\n",
       "                <dd><code>local</code></dd>\n",
       "              <dt>AppName</dt>\n",
       "                <dd><code>demo1</code></dd>\n",
       "            </dl>\n",
       "        </div>\n",
       "        \n",
       "            </div>\n",
       "        "
      ],
      "text/plain": [
       "<pyspark.sql.session.SparkSession at 0x246fe0443d0>"
      ]
     },
     "execution_count": 4,
     "metadata": {},
     "output_type": "execute_result"
    }
   ],
   "source": [
    "spark"
   ]
  },
  {
   "cell_type": "code",
   "execution_count": 8,
   "id": "141422b3",
   "metadata": {},
   "outputs": [],
   "source": [
    "# pyspark_df = spark.read.csv('supermarket_sales.csv')\n",
    "pyspark_df = spark.read.csv('supermarket_sales.csv', header = True)"
   ]
  },
  {
   "cell_type": "code",
   "execution_count": 9,
   "id": "3b88df50",
   "metadata": {},
   "outputs": [
    {
     "data": {
      "text/plain": [
       "DataFrame[Invoice ID: string, Branch: string, City: string, Customer type: string, Gender: string, Product line: string, Unit price: string, Quantity: string, Tax 5%: string, Total: string, Date: string, Time: string, Payment: string, cogs: string, gross margin percentage: string, gross income: string, Rating: string]"
      ]
     },
     "execution_count": 9,
     "metadata": {},
     "output_type": "execute_result"
    }
   ],
   "source": [
    "pyspark_df"
   ]
  },
  {
   "cell_type": "code",
   "execution_count": 10,
   "id": "eb80003e",
   "metadata": {},
   "outputs": [
    {
     "name": "stdout",
     "output_type": "stream",
     "text": [
      "+-----------+------+---------+-------------+------+----------------------+----------+--------+-------+--------+---------+-----+-----------+------+-----------------------+------------+------+\n",
      "|Invoice ID |Branch|City     |Customer type|Gender|Product line          |Unit price|Quantity|Tax 5% |Total   |Date     |Time |Payment    |cogs  |gross margin percentage|gross income|Rating|\n",
      "+-----------+------+---------+-------------+------+----------------------+----------+--------+-------+--------+---------+-----+-----------+------+-----------------------+------------+------+\n",
      "|750-67-8428|A     |Yangon   |Member       |Female|Health and beauty     |74.69     |7       |26.1415|548.9715|1/5/2019 |13:08|Ewallet    |522.83|4.761904762            |26.1415     |9.1   |\n",
      "|226-31-3081|C     |Naypyitaw|Normal       |Female|Electronic accessories|15.28     |5       |3.82   |80.22   |3/8/2019 |10:29|Cash       |76.4  |4.761904762            |3.82        |9.6   |\n",
      "|631-41-3108|A     |Yangon   |Normal       |Male  |Home and lifestyle    |46.33     |7       |16.2155|340.5255|3/3/2019 |13:23|Credit card|324.31|4.761904762            |16.2155     |7.4   |\n",
      "|123-19-1176|A     |Yangon   |Member       |Male  |Health and beauty     |58.22     |8       |23.288 |489.048 |1/27/2019|20:33|Ewallet    |465.76|4.761904762            |23.288      |8.4   |\n",
      "|373-73-7910|A     |Yangon   |Normal       |Male  |Sports and travel     |86.31     |7       |30.2085|634.3785|2/8/2019 |10:37|Ewallet    |604.17|4.761904762            |30.2085     |5.3   |\n",
      "|699-14-3026|C     |Naypyitaw|Normal       |Male  |Electronic accessories|85.39     |7       |29.8865|627.6165|3/25/2019|18:30|Ewallet    |597.73|4.761904762            |29.8865     |4.1   |\n",
      "|355-53-5943|A     |Yangon   |Member       |Female|Electronic accessories|68.84     |6       |20.652 |433.692 |2/25/2019|14:36|Ewallet    |413.04|4.761904762            |20.652      |5.8   |\n",
      "|315-22-5665|C     |Naypyitaw|Normal       |Female|Home and lifestyle    |73.56     |10      |36.78  |772.38  |2/24/2019|11:38|Ewallet    |735.6 |4.761904762            |36.78       |8     |\n",
      "|665-32-9167|A     |Yangon   |Member       |Female|Health and beauty     |36.26     |2       |3.626  |76.146  |1/10/2019|17:15|Credit card|72.52 |4.761904762            |3.626       |7.2   |\n",
      "|692-92-5582|B     |Mandalay |Member       |Female|Food and beverages    |54.84     |3       |8.226  |172.746 |2/20/2019|13:27|Credit card|164.52|4.761904762            |8.226       |5.9   |\n",
      "|351-62-0822|B     |Mandalay |Member       |Female|Fashion accessories   |14.48     |4       |2.896  |60.816  |2/6/2019 |18:07|Ewallet    |57.92 |4.761904762            |2.896       |4.5   |\n",
      "+-----------+------+---------+-------------+------+----------------------+----------+--------+-------+--------+---------+-----+-----------+------+-----------------------+------------+------+\n",
      "only showing top 11 rows\n",
      "\n"
     ]
    }
   ],
   "source": [
    "pyspark_df.show(11,False)"
   ]
  },
  {
   "cell_type": "code",
   "execution_count": 12,
   "id": "a9e3588c",
   "metadata": {},
   "outputs": [
    {
     "name": "stdout",
     "output_type": "stream",
     "text": [
      "root\n",
      " |-- Invoice ID: string (nullable = true)\n",
      " |-- Branch: string (nullable = true)\n",
      " |-- City: string (nullable = true)\n",
      " |-- Customer type: string (nullable = true)\n",
      " |-- Gender: string (nullable = true)\n",
      " |-- Product line: string (nullable = true)\n",
      " |-- Unit price: string (nullable = true)\n",
      " |-- Quantity: string (nullable = true)\n",
      " |-- Tax 5%: string (nullable = true)\n",
      " |-- Total: string (nullable = true)\n",
      " |-- Date: string (nullable = true)\n",
      " |-- Time: string (nullable = true)\n",
      " |-- Payment: string (nullable = true)\n",
      " |-- cogs: string (nullable = true)\n",
      " |-- gross margin percentage: string (nullable = true)\n",
      " |-- gross income: string (nullable = true)\n",
      " |-- Rating: string (nullable = true)\n",
      "\n"
     ]
    }
   ],
   "source": [
    "pyspark_df.printSchema()"
   ]
  },
  {
   "cell_type": "code",
   "execution_count": 14,
   "id": "94f68695",
   "metadata": {},
   "outputs": [],
   "source": [
    "pyspark_df = spark.read.csv('supermarket_sales.csv', header = True, inferSchema=True)"
   ]
  },
  {
   "cell_type": "code",
   "execution_count": 15,
   "id": "e2c9e001",
   "metadata": {},
   "outputs": [
    {
     "name": "stdout",
     "output_type": "stream",
     "text": [
      "root\n",
      " |-- Invoice ID: string (nullable = true)\n",
      " |-- Branch: string (nullable = true)\n",
      " |-- City: string (nullable = true)\n",
      " |-- Customer type: string (nullable = true)\n",
      " |-- Gender: string (nullable = true)\n",
      " |-- Product line: string (nullable = true)\n",
      " |-- Unit price: double (nullable = true)\n",
      " |-- Quantity: integer (nullable = true)\n",
      " |-- Tax 5%: double (nullable = true)\n",
      " |-- Total: double (nullable = true)\n",
      " |-- Date: string (nullable = true)\n",
      " |-- Time: string (nullable = true)\n",
      " |-- Payment: string (nullable = true)\n",
      " |-- cogs: double (nullable = true)\n",
      " |-- gross margin percentage: double (nullable = true)\n",
      " |-- gross income: double (nullable = true)\n",
      " |-- Rating: double (nullable = true)\n",
      "\n"
     ]
    }
   ],
   "source": [
    "pyspark_df.printSchema()"
   ]
  },
  {
   "cell_type": "code",
   "execution_count": 16,
   "id": "11010826",
   "metadata": {},
   "outputs": [],
   "source": [
    "from pyspark.sql.types import *"
   ]
  },
  {
   "cell_type": "code",
   "execution_count": 17,
   "id": "8cee42a1",
   "metadata": {},
   "outputs": [],
   "source": [
    "cust_Schema = StructType(\n",
    "    [StructField(\"Invoice ID\", StringType(), False),\n",
    "     StructField(\"City\", StringType(), True),\n",
    "     StructField(\"Customer true\", StringType(), False),\n",
    "     StructField(\"Gender\", StringType(), False),\n",
    "     StructField(\"Product line\", StringType(), False),\n",
    "     StructField(\"Unit price\", StringType(), False),\n",
    "     StructField(\"Quantitye\", StringType(), False),\n",
    "     StructField(\"Tax 5%\", StringType(), False),\n",
    "     StructField(\"Total\", StringType(), False),\n",
    "     StructField(\"Date\", StringType(), False),\n",
    "     StructField(\"Time\", StringType(), False),\n",
    "     StructField(\"Payment\", StringType(), False),\n",
    "     StructField(\"cogs\", StringType(), False),\n",
    "     StructField(\"gross margin percentage\", StringType(), False),\n",
    "     StructField(\"gross income\", StringType(), False),\n",
    "     StructField(\"Rating\", StringType(), False),]\n",
    "    )"
   ]
  },
  {
   "cell_type": "code",
   "execution_count": 20,
   "id": "d2c92129",
   "metadata": {},
   "outputs": [],
   "source": [
    "DF1 = spark.read.csv('supermarket_sales1.csv',)"
   ]
  },
  {
   "cell_type": "code",
   "execution_count": 22,
   "id": "4891090e",
   "metadata": {},
   "outputs": [
    {
     "name": "stdout",
     "output_type": "stream",
     "text": [
      "+-----------+---+---------+------+------+----------------------+-----+---+-------+--------+---------+-----+-----------+------+-----------+-------+----+\n",
      "|_c0        |_c1|_c2      |_c3   |_c4   |_c5                   |_c6  |_c7|_c8    |_c9     |_c10     |_c11 |_c12       |_c13  |_c14       |_c15   |_c16|\n",
      "+-----------+---+---------+------+------+----------------------+-----+---+-------+--------+---------+-----+-----------+------+-----------+-------+----+\n",
      "|750-67-8428|A  |Yangon   |Member|Female|Health and beauty     |74.69|7  |26.1415|548.9715|1/5/2019 |13:08|Ewallet    |522.83|4.761904762|26.1415|9.1 |\n",
      "|226-31-3081|C  |Naypyitaw|Normal|Female|Electronic accessories|15.28|5  |3.82   |80.22   |3/8/2019 |10:29|Cash       |76.4  |4.761904762|3.82   |9.6 |\n",
      "|631-41-3108|A  |Yangon   |Normal|Male  |Home and lifestyle    |46.33|7  |16.2155|340.5255|3/3/2019 |13:23|Credit card|324.31|4.761904762|16.2155|7.4 |\n",
      "|123-19-1176|A  |Yangon   |Member|Male  |Health and beauty     |58.22|8  |23.288 |489.048 |1/27/2019|20:33|Ewallet    |465.76|4.761904762|23.288 |8.4 |\n",
      "|373-73-7910|A  |Yangon   |Normal|Male  |Sports and travel     |86.31|7  |30.2085|634.3785|2/8/2019 |10:37|Ewallet    |604.17|4.761904762|30.2085|5.3 |\n",
      "+-----------+---+---------+------+------+----------------------+-----+---+-------+--------+---------+-----+-----------+------+-----------+-------+----+\n",
      "only showing top 5 rows\n",
      "\n"
     ]
    }
   ],
   "source": [
    "DF1.show(5, False)  # False is to show the whole column description "
   ]
  },
  {
   "cell_type": "code",
   "execution_count": 24,
   "id": "a34fd3b6",
   "metadata": {},
   "outputs": [],
   "source": [
    "DF1 = spark.read.csv('supermarket_sales1.csv', schema=cust_Schema)"
   ]
  },
  {
   "cell_type": "code",
   "execution_count": 25,
   "id": "23862055",
   "metadata": {},
   "outputs": [
    {
     "name": "stdout",
     "output_type": "stream",
     "text": [
      "+-----------+----+-------------+------+------------+----------------------+---------+------+-------+--------+---------+-------+-----------+-----------------------+------------+-------+\n",
      "|Invoice ID |City|Customer true|Gender|Product line|Unit price            |Quantitye|Tax 5%|Total  |Date    |Time     |Payment|cogs       |gross margin percentage|gross income|Rating |\n",
      "+-----------+----+-------------+------+------------+----------------------+---------+------+-------+--------+---------+-------+-----------+-----------------------+------------+-------+\n",
      "|750-67-8428|A   |Yangon       |Member|Female      |Health and beauty     |74.69    |7     |26.1415|548.9715|1/5/2019 |13:08  |Ewallet    |522.83                 |4.761904762 |26.1415|\n",
      "|226-31-3081|C   |Naypyitaw    |Normal|Female      |Electronic accessories|15.28    |5     |3.82   |80.22   |3/8/2019 |10:29  |Cash       |76.4                   |4.761904762 |3.82   |\n",
      "|631-41-3108|A   |Yangon       |Normal|Male        |Home and lifestyle    |46.33    |7     |16.2155|340.5255|3/3/2019 |13:23  |Credit card|324.31                 |4.761904762 |16.2155|\n",
      "|123-19-1176|A   |Yangon       |Member|Male        |Health and beauty     |58.22    |8     |23.288 |489.048 |1/27/2019|20:33  |Ewallet    |465.76                 |4.761904762 |23.288 |\n",
      "|373-73-7910|A   |Yangon       |Normal|Male        |Sports and travel     |86.31    |7     |30.2085|634.3785|2/8/2019 |10:37  |Ewallet    |604.17                 |4.761904762 |30.2085|\n",
      "+-----------+----+-------------+------+------------+----------------------+---------+------+-------+--------+---------+-------+-----------+-----------------------+------------+-------+\n",
      "only showing top 5 rows\n",
      "\n"
     ]
    }
   ],
   "source": [
    "DF1.show(5, False)"
   ]
  },
  {
   "cell_type": "code",
   "execution_count": 27,
   "id": "75823cd6",
   "metadata": {},
   "outputs": [
    {
     "name": "stdout",
     "output_type": "stream",
     "text": [
      "root\n",
      " |-- Invoice ID: string (nullable = true)\n",
      " |-- City: string (nullable = true)\n",
      " |-- Customer true: string (nullable = true)\n",
      " |-- Gender: string (nullable = true)\n",
      " |-- Product line: string (nullable = true)\n",
      " |-- Unit price: string (nullable = true)\n",
      " |-- Quantitye: string (nullable = true)\n",
      " |-- Tax 5%: string (nullable = true)\n",
      " |-- Total: string (nullable = true)\n",
      " |-- Date: string (nullable = true)\n",
      " |-- Time: string (nullable = true)\n",
      " |-- Payment: string (nullable = true)\n",
      " |-- cogs: string (nullable = true)\n",
      " |-- gross margin percentage: string (nullable = true)\n",
      " |-- gross income: string (nullable = true)\n",
      " |-- Rating: string (nullable = true)\n",
      "\n"
     ]
    }
   ],
   "source": [
    "DF1.printSchema()"
   ]
  },
  {
   "cell_type": "code",
   "execution_count": 28,
   "id": "11653240",
   "metadata": {},
   "outputs": [
    {
     "data": {
      "text/plain": [
       "1000"
      ]
     },
     "execution_count": 28,
     "metadata": {},
     "output_type": "execute_result"
    }
   ],
   "source": [
    "DF1.count()"
   ]
  },
  {
   "cell_type": "code",
   "execution_count": 31,
   "id": "af46ad13",
   "metadata": {},
   "outputs": [],
   "source": [
    "DF1.write.format('csv').mode('Overwrite').option('maxRecordsPerFile', 500).option('path', 'output').save()"
   ]
  },
  {
   "cell_type": "code",
   "execution_count": 32,
   "id": "04fc8533",
   "metadata": {},
   "outputs": [
    {
     "data": {
      "text/plain": [
       "'D:\\\\Personal_projects\\\\pyspark_project'"
      ]
     },
     "execution_count": 32,
     "metadata": {},
     "output_type": "execute_result"
    }
   ],
   "source": [
    "pwd"
   ]
  },
  {
   "cell_type": "code",
   "execution_count": null,
   "id": "d4d93f6f",
   "metadata": {},
   "outputs": [],
   "source": []
  }
 ],
 "metadata": {
  "kernelspec": {
   "display_name": "Python 3 (ipykernel)",
   "language": "python",
   "name": "python3"
  },
  "language_info": {
   "codemirror_mode": {
    "name": "ipython",
    "version": 3
   },
   "file_extension": ".py",
   "mimetype": "text/x-python",
   "name": "python",
   "nbconvert_exporter": "python",
   "pygments_lexer": "ipython3",
   "version": "3.8.0"
  }
 },
 "nbformat": 4,
 "nbformat_minor": 5
}
